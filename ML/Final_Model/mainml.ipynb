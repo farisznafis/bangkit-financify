{
 "cells": [
  {
   "cell_type": "code",
   "execution_count": 1,
   "id": "6d747221",
   "metadata": {},
   "outputs": [
    {
     "name": "stdout",
     "output_type": "stream",
     "text": [
      "WARNING:tensorflow:From c:\\Python311\\Lib\\site-packages\\keras\\src\\losses.py:2976: The name tf.losses.sparse_softmax_cross_entropy is deprecated. Please use tf.compat.v1.losses.sparse_softmax_cross_entropy instead.\n",
      "\n"
     ]
    }
   ],
   "source": [
    "import pandas as pd\n",
    "import numpy as np\n",
    "from sklearn.preprocessing import MinMaxScaler\n",
    "from tensorflow.keras.models import Sequential\n",
    "from tensorflow.keras.layers import Bidirectional, LSTM, Dense\n",
    "import tensorflow as tf"
   ]
  },
  {
   "cell_type": "code",
   "execution_count": 11,
   "id": "acd9c86e",
   "metadata": {},
   "outputs": [],
   "source": [
    "# Baca data\n",
    "file_path = 'c:\\\\Users\\\\WIN10\\\\OneDrive\\\\Documents\\\\Bangkit\\\\Dataset\\\\inflasibulanfix_v2.csv'\n",
    "df = pd.read_csv(file_path)\n"
   ]
  },
  {
   "cell_type": "code",
   "execution_count": 12,
   "id": "612b614e",
   "metadata": {},
   "outputs": [
    {
     "name": "stdout",
     "output_type": "stream",
     "text": [
      "                        City     Month  Year Inflation\n",
      "0              KOTA MEULABOH   januari  2008       0.0\n",
      "1            KOTA BANDA ACEH   januari  2008      2.26\n",
      "2           KOTA LHOKSEUMAWE   januari  2008      1.89\n",
      "3               KOTA SIBOLGA   januari  2008      2.51\n",
      "4      KOTA PEMATANG SIANTAR   januari  2008      1.12\n",
      "...                      ...       ...   ...       ...\n",
      "15657           KOTA TERNATE  november  2023      -0,2\n",
      "15658              MANOKWARI  november  2023     -0,41\n",
      "15659            KOTA SORONG  november  2023     -0,49\n",
      "15660                MERAUKE  november  2023       0,3\n",
      "15661          KOTA JAYAPURA  november  2023       0,1\n",
      "\n",
      "[15662 rows x 4 columns]\n"
     ]
    }
   ],
   "source": [
    "# Ambil kolom yang relevan\n",
    "df = df[['City', 'Month', 'Year', 'Inflation']]\n",
    "print(df)"
   ]
  },
  {
   "cell_type": "code",
   "execution_count": 13,
   "id": "24800bf9",
   "metadata": {},
   "outputs": [],
   "source": [
    "# Remove 'KOTA' from the 'City' column\n",
    "df['City'] = df['City'].str.replace('KOTA ', '', regex=False)"
   ]
  },
  {
   "cell_type": "code",
   "execution_count": 14,
   "id": "4a0f8978",
   "metadata": {},
   "outputs": [],
   "source": [
    "# Urutkan data\n",
    "df = df.sort_values(by=['City', 'Year', 'Month'])"
   ]
  },
  {
   "cell_type": "code",
   "execution_count": 15,
   "id": "58794ac8",
   "metadata": {},
   "outputs": [],
   "source": [
    "if not pd.api.types.is_numeric_dtype(df['Inflation']):\n",
    "    # Replace commas with dots in the 'Inflation' column\n",
    "    df['Inflation'] = df['Inflation'].str.replace(',', '.').astype(float)"
   ]
  },
  {
   "cell_type": "code",
   "execution_count": 16,
   "id": "a02e95b2",
   "metadata": {},
   "outputs": [],
   "source": [
    "# Scaling data inflasi\n",
    "scaler = MinMaxScaler()\n",
    "df['Inflation'] = scaler.fit_transform(df['Inflation'].values.reshape(-1, 1))"
   ]
  },
  {
   "cell_type": "code",
   "execution_count": 17,
   "id": "10d28bcc",
   "metadata": {
    "lines_to_next_cell": 1
   },
   "outputs": [],
   "source": [
    "# Pisahkan data menjadi seri waktu untuk setiap kota\n",
    "city_data = {}\n",
    "for city in df['City'].unique():\n",
    "    city_data[city] = df[df['City'] == city]['Inflation'].values\n"
   ]
  },
  {
   "cell_type": "code",
   "execution_count": 18,
   "id": "fa26e3f7",
   "metadata": {
    "lines_to_next_cell": 1
   },
   "outputs": [],
   "source": [
    "# Combine data for all cities into a single time series\n",
    "all_cities_data = np.concatenate(list(city_data.values()))\n",
    "\n",
    "# Function to create time series sequences\n",
    "def create_time_series(data, time_steps=1):\n",
    "    X, y = [], []\n",
    "    for i in range(len(data) - time_steps):\n",
    "        a = data[i:(i + time_steps)]\n",
    "        X.append(a)\n",
    "        y.append(data[i + time_steps])\n",
    "    return np.array(X), np.array(y)\n"
   ]
  },
  {
   "cell_type": "code",
   "execution_count": 19,
   "id": "5d0efb54",
   "metadata": {},
   "outputs": [],
   "source": [
    "# Hyperparameters\n",
    "time_steps = 12\n",
    "n_features = 1"
   ]
  },
  {
   "cell_type": "code",
   "execution_count": 20,
   "id": "2aa16c1c",
   "metadata": {},
   "outputs": [
    {
     "name": "stdout",
     "output_type": "stream",
     "text": [
      "WARNING:tensorflow:From c:\\Python311\\Lib\\site-packages\\keras\\src\\backend.py:873: The name tf.get_default_graph is deprecated. Please use tf.compat.v1.get_default_graph instead.\n",
      "\n",
      "WARNING:tensorflow:From c:\\Python311\\Lib\\site-packages\\keras\\src\\optimizers\\__init__.py:309: The name tf.train.Optimizer is deprecated. Please use tf.compat.v1.train.Optimizer instead.\n",
      "\n",
      "WARNING:tensorflow:From c:\\Python311\\Lib\\site-packages\\keras\\src\\utils\\tf_utils.py:492: The name tf.ragged.RaggedTensorValue is deprecated. Please use tf.compat.v1.ragged.RaggedTensorValue instead.\n",
      "\n"
     ]
    },
    {
     "data": {
      "text/plain": [
       "<keras.src.callbacks.History at 0x1f90a5c3090>"
      ]
     },
     "execution_count": 20,
     "metadata": {},
     "output_type": "execute_result"
    }
   ],
   "source": [
    "# Create time series for all cities\n",
    "X_all, y_all = create_time_series(all_cities_data, time_steps)\n",
    "X_all = X_all.reshape((X_all.shape[0], X_all.shape[1], n_features))\n",
    "\n",
    "# Create and train a single LSTM model for all cities\n",
    "model = Sequential()\n",
    "model.add(Bidirectional(LSTM(50, activation='relu'), input_shape=(time_steps, n_features)))\n",
    "model.add(Dense(1))\n",
    "model.compile(optimizer='adam', loss='mse')\n",
    "model.fit(X_all, y_all, epochs=50, verbose=0)"
   ]
  },
  {
   "cell_type": "code",
   "execution_count": 21,
   "id": "ffd615c0",
   "metadata": {},
   "outputs": [
    {
     "name": "stdout",
     "output_type": "stream",
     "text": [
      "1/1 [==============================] - 0s 257ms/step\n"
     ]
    }
   ],
   "source": [
    "# Example prediction for a city\n",
    "sample_city = 'YOGYAKARTA'\n",
    "input_data = scaler.transform(city_data[sample_city][-time_steps:].reshape(-1, 1))\n",
    "input_data = input_data.reshape((1, time_steps, n_features))\n",
    "predicted_inflation = model.predict(input_data)"
   ]
  },
  {
   "cell_type": "code",
   "execution_count": 22,
   "id": "b72b49aa",
   "metadata": {},
   "outputs": [
    {
     "name": "stdout",
     "output_type": "stream",
     "text": [
      "Predicted Inflation for YOGYAKARTA: 0.2176300585269928\n"
     ]
    }
   ],
   "source": [
    "# Inverse transform the prediction to get the actual value\n",
    "predicted_inflation_actual = scaler.inverse_transform(predicted_inflation.reshape(-1, 1))\n",
    "print(f'Predicted Inflation for {sample_city}: {predicted_inflation_actual[0][0]}')"
   ]
  },
  {
   "cell_type": "code",
   "execution_count": 23,
   "id": "07923d56",
   "metadata": {},
   "outputs": [
    {
     "name": "stdout",
     "output_type": "stream",
     "text": [
      "Trend for YOGYAKARTA inflation: down\n"
     ]
    }
   ],
   "source": [
    "# Compare with the most recent actual inflation value\n",
    "historical_inflation = city_data[sample_city]\n",
    "last_actual_inflation = historical_inflation[-1]\n",
    "\n",
    "# Determine the trend\n",
    "if predicted_inflation_actual[0][0] > last_actual_inflation:\n",
    "    trend = 'up'\n",
    "elif predicted_inflation_actual[0][0] < last_actual_inflation:\n",
    "    trend = 'down'\n",
    "else:\n",
    "    trend = 'unchanged'\n",
    "\n",
    "print(f'Trend for {sample_city} inflation: {trend}')"
   ]
  },
  {
   "cell_type": "code",
   "execution_count": null,
   "id": "9b87d4d5",
   "metadata": {},
   "outputs": [],
   "source": []
  }
 ],
 "metadata": {
  "jupytext": {
   "cell_metadata_filter": "-all",
   "main_language": "python",
   "notebook_metadata_filter": "-all"
  },
  "kernelspec": {
   "display_name": "Python 3",
   "language": "python",
   "name": "python3"
  },
  "language_info": {
   "codemirror_mode": {
    "name": "ipython",
    "version": 3
   },
   "file_extension": ".py",
   "mimetype": "text/x-python",
   "name": "python",
   "nbconvert_exporter": "python",
   "pygments_lexer": "ipython3",
   "version": "3.11.5"
  }
 },
 "nbformat": 4,
 "nbformat_minor": 5
}
