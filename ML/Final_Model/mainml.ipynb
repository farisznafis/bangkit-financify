{
 "cells": [
  {
   "cell_type": "code",
   "execution_count": 4,
   "id": "6d747221",
   "metadata": {},
   "outputs": [],
   "source": [
    "import pandas as pd\n",
    "import numpy as np\n",
    "from sklearn.preprocessing import MinMaxScaler\n",
    "from tensorflow.keras.models import Sequential\n",
    "from tensorflow.keras.layers import Bidirectional, LSTM, Dense\n",
    "import tensorflow as tf"
   ]
  },
  {
   "cell_type": "code",
   "execution_count": 5,
   "id": "acd9c86e",
   "metadata": {},
   "outputs": [],
   "source": [
    "# Load data\n",
    "file_path = 'C:/Users/WIN10/OneDrive/Documents/Bangkit/Dataset/inflasi_v3.csv'\n",
    "df = pd.read_csv(file_path)\n"
   ]
  },
  {
   "cell_type": "code",
   "execution_count": 6,
   "id": "612b614e",
   "metadata": {},
   "outputs": [
    {
     "name": "stdout",
     "output_type": "stream",
     "text": [
      "                        City     Month  Year  Inflation     CPI\n",
      "0              KOTA MEULABOH   januari  2008       0.00    0.00\n",
      "1            KOTA BANDA ACEH   januari  2008       2.26  204.80\n",
      "2           KOTA LHOKSEUMAWE   januari  2008       1.89  160.79\n",
      "3               KOTA SIBOLGA   januari  2008       2.51  163.31\n",
      "4      KOTA PEMATANG SIANTAR   januari  2008       1.12  158.34\n",
      "...                      ...       ...   ...        ...     ...\n",
      "15657           KOTA TERNATE  november  2023      -0.20  115.29\n",
      "15658              MANOKWARI  november  2023      -0.41  119.54\n",
      "15659            KOTA SORONG  november  2023      -0.49  114.12\n",
      "15660                MERAUKE  november  2023       0.30  115.32\n",
      "15661          KOTA JAYAPURA  november  2023       0.10  112.99\n",
      "\n",
      "[15662 rows x 5 columns]\n"
     ]
    }
   ],
   "source": [
    "# Select relevant columns\n",
    "df = df[['City', 'Month', 'Year', 'Inflation', 'CPI']]\n",
    "print(df)"
   ]
  },
  {
   "cell_type": "code",
   "execution_count": 7,
   "id": "24800bf9",
   "metadata": {},
   "outputs": [],
   "source": [
    "# Remove 'KOTA' from the 'City' column\n",
    "df['City'] = df['City'].str.replace('KOTA ', '', regex=False)"
   ]
  },
  {
   "cell_type": "code",
   "execution_count": 8,
   "id": "4a0f8978",
   "metadata": {},
   "outputs": [],
   "source": [
    "# Check if 'Inflation' and 'CPI' columns already contain numeric values\n",
    "for col in ['Inflation', 'CPI']:\n",
    "    if not pd.api.types.is_numeric_dtype(df[col]):\n",
    "        # Replace commas with dots and convert to float\n",
    "        df[col] = df[col].str.replace(',', '.').astype(float)"
   ]
  },
  {
   "cell_type": "code",
   "execution_count": 9,
   "id": "58794ac8",
   "metadata": {},
   "outputs": [],
   "source": [
    "# Sort the data\n",
    "df = df.sort_values(by=['City', 'Year', 'Month'])"
   ]
  },
  {
   "cell_type": "code",
   "execution_count": 10,
   "id": "a02e95b2",
   "metadata": {},
   "outputs": [],
   "source": [
    "# Scale inflation data and other numerical features\n",
    "scaler = MinMaxScaler()\n",
    "df[['Inflation', 'CPI']] = scaler.fit_transform(df[['Inflation', 'CPI']].values)"
   ]
  },
  {
   "cell_type": "code",
   "execution_count": 11,
   "id": "10d28bcc",
   "metadata": {
    "lines_to_next_cell": 1
   },
   "outputs": [],
   "source": [
    "# Separate data into time series for each city\n",
    "city_data = {}\n",
    "for city in df['City'].unique():\n",
    "    city_data[city] = df[df['City'] == city][['Inflation', 'CPI']].values"
   ]
  },
  {
   "cell_type": "code",
   "execution_count": 12,
   "id": "fa26e3f7",
   "metadata": {
    "lines_to_next_cell": 1
   },
   "outputs": [],
   "source": [
    "# Combine data for all cities into a single time series\n",
    "all_cities_data = np.concatenate(list(city_data.values()))\n",
    "\n",
    "# Function to create time series sequences\n",
    "def create_time_series(data, time_steps=1):\n",
    "    X, y = [], []\n",
    "    for i in range(len(data) - time_steps + 1):\n",
    "        a = data[i:(i + time_steps), :]\n",
    "        X.append(a)\n",
    "        y.append(data[i + time_steps - 1, 0])  # Assuming 'Inflation' is in the first column\n",
    "    return np.array(X), np.array(y)"
   ]
  },
  {
   "cell_type": "code",
   "execution_count": 13,
   "id": "5d0efb54",
   "metadata": {},
   "outputs": [],
   "source": [
    "# Hyperparameters\n",
    "time_steps = 12\n",
    "n_features = 2"
   ]
  },
  {
   "cell_type": "code",
   "execution_count": 14,
   "id": "2aa16c1c",
   "metadata": {},
   "outputs": [
    {
     "name": "stdout",
     "output_type": "stream",
     "text": [
      "WARNING:tensorflow:From c:\\Python311\\Lib\\site-packages\\keras\\src\\backend.py:873: The name tf.get_default_graph is deprecated. Please use tf.compat.v1.get_default_graph instead.\n",
      "\n"
     ]
    },
    {
     "name": "stdout",
     "output_type": "stream",
     "text": [
      "WARNING:tensorflow:From c:\\Python311\\Lib\\site-packages\\keras\\src\\optimizers\\__init__.py:309: The name tf.train.Optimizer is deprecated. Please use tf.compat.v1.train.Optimizer instead.\n",
      "\n",
      "WARNING:tensorflow:From c:\\Python311\\Lib\\site-packages\\keras\\src\\utils\\tf_utils.py:492: The name tf.ragged.RaggedTensorValue is deprecated. Please use tf.compat.v1.ragged.RaggedTensorValue instead.\n",
      "\n"
     ]
    },
    {
     "data": {
      "text/plain": [
       "<keras.src.callbacks.History at 0x1f295ce6dd0>"
      ]
     },
     "execution_count": 14,
     "metadata": {},
     "output_type": "execute_result"
    }
   ],
   "source": [
    "# Create time series for all cities\n",
    "X_all, y_all = create_time_series(all_cities_data, time_steps)\n",
    "X_all = X_all.reshape((X_all.shape[0], time_steps, n_features))\n",
    "\n",
    "# Create and train a single LSTM model for all cities\n",
    "model = Sequential()\n",
    "model.add(Bidirectional(LSTM(50, activation='relu'), input_shape=(time_steps, n_features)))\n",
    "model.add(Dense(1))\n",
    "model.compile(optimizer='adam', loss='mse')\n",
    "model.fit(X_all, y_all, epochs=50, verbose=0)"
   ]
  },
  {
   "cell_type": "code",
   "execution_count": 15,
   "id": "ffd615c0",
   "metadata": {},
   "outputs": [
    {
     "name": "stdout",
     "output_type": "stream",
     "text": [
      "1/1 [==============================] - 0s 286ms/step\n"
     ]
    }
   ],
   "source": [
    "# Example prediction for a city\n",
    "sample_city = 'YOGYAKARTA'\n",
    "input_data = scaler.transform(city_data[sample_city][-time_steps:])\n",
    "input_data = input_data.reshape((1, time_steps, n_features))\n",
    "predicted_inflation = model.predict(input_data)"
   ]
  },
  {
   "cell_type": "code",
   "execution_count": 16,
   "id": "b72b49aa",
   "metadata": {},
   "outputs": [
    {
     "name": "stdout",
     "output_type": "stream",
     "text": [
      "Predicted Inflation for YOGYAKARTA: 0.3589950203895569\n"
     ]
    }
   ],
   "source": [
    "# Inverse transform the prediction to get the actual value\n",
    "predicted_inflation_actual = scaler.inverse_transform(np.concatenate([predicted_inflation, np.zeros_like(predicted_inflation)], axis=1))\n",
    "predicted_inflation_actual = predicted_inflation_actual[:, 0]\n",
    "print(f'Predicted Inflation for {sample_city}: {predicted_inflation_actual[0]}')"
   ]
  },
  {
   "cell_type": "code",
   "execution_count": 17,
   "id": "07923d56",
   "metadata": {},
   "outputs": [
    {
     "name": "stdout",
     "output_type": "stream",
     "text": [
      "Trend for YOGYAKARTA inflation: down\n"
     ]
    }
   ],
   "source": [
    "# Compare with the most recent actual inflation value\n",
    "historical_inflation = city_data[sample_city]\n",
    "last_actual_inflation = historical_inflation[-1, 0]  # Assuming 'Inflation' is in the first column\n",
    "\n",
    "# Determine the trend\n",
    "if predicted_inflation_actual[0] > last_actual_inflation:\n",
    "    trend = 'up'\n",
    "elif predicted_inflation_actual[0] < last_actual_inflation:\n",
    "    trend = 'down'\n",
    "else:\n",
    "    trend = 'unchanged'\n",
    "\n",
    "print(f'Trend for {sample_city} inflation: {trend}')"
   ]
  },
  {
   "cell_type": "code",
   "execution_count": null,
   "id": "9b87d4d5",
   "metadata": {},
   "outputs": [],
   "source": []
  }
 ],
 "metadata": {
  "jupytext": {
   "cell_metadata_filter": "-all",
   "main_language": "python",
   "notebook_metadata_filter": "-all"
  },
  "kernelspec": {
   "display_name": "Python 3",
   "language": "python",
   "name": "python3"
  },
  "language_info": {
   "codemirror_mode": {
    "name": "ipython",
    "version": 3
   },
   "file_extension": ".py",
   "mimetype": "text/x-python",
   "name": "python",
   "nbconvert_exporter": "python",
   "pygments_lexer": "ipython3",
   "version": "3.11.5"
  }
 },
 "nbformat": 4,
 "nbformat_minor": 5
}
