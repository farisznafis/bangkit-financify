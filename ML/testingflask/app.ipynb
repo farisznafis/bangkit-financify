{
 "cells": [
  {
   "cell_type": "code",
   "execution_count": null,
   "id": "652ae6d9",
   "metadata": {},
   "outputs": [],
   "source": [
    "# app.py\n",
    "from flask import Flask, render_template, request\n",
    "from tensorflow.keras.models import load_model\n",
    "from sklearn.preprocessing import MinMaxScaler\n",
    "import pandas as pd\n",
    "import numpy as np"
   ]
  },
  {
   "cell_type": "code",
   "execution_count": null,
   "id": "3e4e0a06",
   "metadata": {},
   "outputs": [],
   "source": [
    "app = Flask(__name__)"
   ]
  },
  {
   "cell_type": "code",
   "execution_count": null,
   "id": "e909bdfa",
   "metadata": {},
   "outputs": [],
   "source": [
    "# Load the Keras model\n",
    "model = load_model('all_cities_lstm_model.h5')"
   ]
  },
  {
   "cell_type": "code",
   "execution_count": null,
   "id": "c43f504f",
   "metadata": {},
   "outputs": [],
   "source": [
    "# Initialize scaler\n",
    "scaler = MinMaxScaler()"
   ]
  },
  {
   "cell_type": "code",
   "execution_count": null,
   "id": "f2e6ccd9",
   "metadata": {},
   "outputs": [],
   "source": [
    "# Load data\n",
    "file_path = 'inflasibulanfix.csv'\n",
    "df = pd.read_csv(file_path)"
   ]
  },
  {
   "cell_type": "code",
   "execution_count": null,
   "id": "82d5eebf",
   "metadata": {},
   "outputs": [],
   "source": [
    "# Select relevant columns\n",
    "df = df[['City', 'Month', 'Year', 'Inflation']]"
   ]
  },
  {
   "cell_type": "code",
   "execution_count": null,
   "id": "4740675c",
   "metadata": {},
   "outputs": [],
   "source": [
    "# Remove 'KOTA' from the 'City' column\n",
    "df['City'] = df['City'].str.replace('KOTA ', '', regex=False)"
   ]
  },
  {
   "cell_type": "code",
   "execution_count": null,
   "id": "a8391a84",
   "metadata": {},
   "outputs": [],
   "source": [
    "# Check if 'Inflation' column already contains numeric values\n",
    "if not pd.api.types.is_numeric_dtype(df['Inflation']):\n",
    "    # Replace commas with dots in the 'Inflation' column\n",
    "    df['Inflation'] = df['Inflation'].str.replace(',', '.').astype(float)"
   ]
  },
  {
   "cell_type": "code",
   "execution_count": null,
   "id": "6f76dbd4",
   "metadata": {},
   "outputs": [],
   "source": [
    "# Sort the data\n",
    "df = df.sort_values(by=['City', 'Year', 'Month'])"
   ]
  },
  {
   "cell_type": "code",
   "execution_count": null,
   "id": "3a6f4b6b",
   "metadata": {},
   "outputs": [],
   "source": [
    "# Separate data into time series for each city\n",
    "city_data = {}\n",
    "for city in df['City'].unique():\n",
    "    city_data[city] = df[df['City'] == city]['Inflation'].values"
   ]
  },
  {
   "cell_type": "code",
   "execution_count": null,
   "id": "6e751f65",
   "metadata": {
    "lines_to_next_cell": 1
   },
   "outputs": [],
   "source": [
    "# Combine data for all cities into a single time series\n",
    "all_cities_data = np.concatenate(list(city_data.values()))"
   ]
  },
  {
   "cell_type": "code",
   "execution_count": null,
   "id": "f21a2d66",
   "metadata": {
    "lines_to_next_cell": 1
   },
   "outputs": [],
   "source": [
    "# Function to create time series sequences\n",
    "def create_time_series(data, time_steps=1):\n",
    "    X, y = [], []\n",
    "    for i in range(len(data) - time_steps):\n",
    "        a = data[i:(i + time_steps)]\n",
    "        X.append(a)\n",
    "        y.append(data[i + time_steps])\n",
    "    return np.array(X), np.array(y)"
   ]
  },
  {
   "cell_type": "code",
   "execution_count": null,
   "id": "58fadda8",
   "metadata": {},
   "outputs": [],
   "source": [
    "# Hyperparameters\n",
    "time_steps = 12\n",
    "n_features = 1"
   ]
  },
  {
   "cell_type": "code",
   "execution_count": null,
   "id": "d9f544bd",
   "metadata": {},
   "outputs": [],
   "source": [
    "# Create time series for all cities\n",
    "X_all, y_all = create_time_series(all_cities_data, time_steps)\n",
    "X_all = X_all.reshape((X_all.shape[0], X_all.shape[1], n_features))"
   ]
  },
  {
   "cell_type": "code",
   "execution_count": null,
   "id": "1866cc45",
   "metadata": {
    "lines_to_next_cell": 1
   },
   "outputs": [],
   "source": [
    "# Fit the scaler with all inflation data\n",
    "scaler.fit_transform(all_cities_data.reshape(-1, 1))"
   ]
  },
  {
   "cell_type": "code",
   "execution_count": null,
   "id": "b76e6530",
   "metadata": {
    "lines_to_next_cell": 1
   },
   "outputs": [],
   "source": [
    "@app.route('/')\n",
    "def index():\n",
    "    return render_template('index.html')"
   ]
  },
  {
   "cell_type": "code",
   "execution_count": null,
   "id": "0b98d4ff",
   "metadata": {
    "lines_to_next_cell": 1
   },
   "outputs": [],
   "source": [
    "@app.route('/predict', methods=['POST'])\n",
    "def predict():\n",
    "    error = None\n",
    "    prediction = None\n",
    "    trend = None\n",
    "    time_required = None\n",
    "\n",
    "    try:\n",
    "        city = request.form['city']\n",
    "        goal = float(request.form['goal'])\n",
    "        income = float(request.form['income'])\n",
    "        expenses = float(request.form['expenses'])\n",
    "        historical_inflation = city_data[city]\n",
    "\n",
    "        input_data = scaler.transform(historical_inflation[-time_steps:].reshape(-1, 1))\n",
    "        input_data = input_data.reshape((1, time_steps, n_features))\n",
    "\n",
    "        # Make prediction\n",
    "        predicted_inflation = model.predict(input_data)\n",
    "\n",
    "        # Inverse transform the prediction to get the actual value\n",
    "        predicted_inflation_actual = scaler.inverse_transform(predicted_inflation.reshape(-1, 1))\n",
    "        prediction = predicted_inflation_actual[0][0]\n",
    "\n",
    "        # Compare with the most recent actual inflation value\n",
    "        last_actual_inflation = historical_inflation[-1]\n",
    "\n",
    "        # Determine the trend\n",
    "        if prediction > last_actual_inflation:\n",
    "            trend = 'up'\n",
    "        elif prediction < last_actual_inflation:\n",
    "            trend = 'down'\n",
    "        else:\n",
    "            trend = 'unchanged'\n",
    "\n",
    "        # Calculate time required to achieve the financial goal\n",
    "        time_required = calculate_time_to_goal(goal, income, expenses, prediction)\n",
    "        prediction = round(prediction, 2)\n",
    "\n",
    "    except Exception as e:\n",
    "        error = str(e)\n",
    "\n",
    "    return render_template('result.html', error=error, prediction=prediction, trend=trend, time_required=time_required)"
   ]
  },
  {
   "cell_type": "code",
   "execution_count": null,
   "id": "d46ff28a",
   "metadata": {
    "lines_to_next_cell": 1
   },
   "outputs": [],
   "source": [
    "def calculate_time_to_goal(goal, income, expenses, savings):\n",
    "    # Calculate monthly savings\n",
    "    monthly_savings = income - expenses\n",
    "\n",
    "    # Calculate the number of months required to reach the goal\n",
    "    months_to_goal = int((goal - savings) / monthly_savings)\n",
    "\n",
    "    # Convert months to years and months\n",
    "    years_to_goal = months_to_goal // 12\n",
    "    remaining_months = months_to_goal % 12\n",
    "\n",
    "    return years_to_goal, remaining_months"
   ]
  },
  {
   "cell_type": "code",
   "execution_count": null,
   "id": "d861225a",
   "metadata": {},
   "outputs": [],
   "source": [
    "if __name__ == '__main__':\n",
    "    app.run(debug=True)"
   ]
  }
 ],
 "metadata": {
  "jupytext": {
   "cell_metadata_filter": "-all",
   "main_language": "python",
   "notebook_metadata_filter": "-all"
  }
 },
 "nbformat": 4,
 "nbformat_minor": 5
}
