{
 "cells": [
  {
   "cell_type": "code",
   "execution_count": null,
   "id": "6d747221",
   "metadata": {},
   "outputs": [],
   "source": [
    "import pandas as pd\n",
    "import numpy as np\n",
    "from sklearn.preprocessing import MinMaxScaler\n",
    "from tensorflow.keras.models import Sequential\n",
    "from tensorflow.keras.layers import Bidirectional, LSTM, Dense"
   ]
  },
  {
   "cell_type": "code",
   "execution_count": null,
   "id": "4eb2173b",
   "metadata": {},
   "outputs": [],
   "source": [
    "# Baca data\n",
    "file_path = 'inflasibulanfix.csv'\n",
    "df = pd.read_csv(file_path)"
   ]
  },
  {
   "cell_type": "code",
   "execution_count": null,
   "id": "612b614e",
   "metadata": {},
   "outputs": [],
   "source": [
    "# Ambil kolom yang relevan\n",
    "df = df[['City', 'Month', 'Year', 'Inflation']]"
   ]
  },
  {
   "cell_type": "code",
   "execution_count": null,
   "id": "24800bf9",
   "metadata": {},
   "outputs": [],
   "source": [
    "# Ganti koma dengan titik pada kolom 'Inflation'\n",
    "df['Inflation'] = df['Inflation'].str.replace(',', '.').astype(float)"
   ]
  },
  {
   "cell_type": "code",
   "execution_count": null,
   "id": "4a0f8978",
   "metadata": {},
   "outputs": [],
   "source": [
    "# Urutkan data\n",
    "df = df.sort_values(by=['City', 'Year', 'Month'])"
   ]
  },
  {
   "cell_type": "code",
   "execution_count": null,
   "id": "a02e95b2",
   "metadata": {},
   "outputs": [],
   "source": [
    "# Scaling data inflasi\n",
    "scaler = MinMaxScaler()\n",
    "df['Inflation'] = scaler.fit_transform(df['Inflation'].values.reshape(-1, 1))"
   ]
  },
  {
   "cell_type": "code",
   "execution_count": null,
   "id": "10d28bcc",
   "metadata": {
    "lines_to_next_cell": 1
   },
   "outputs": [],
   "source": [
    "# Pisahkan data menjadi seri waktu untuk setiap kota\n",
    "city_data = {}\n",
    "for city in df['City'].unique():\n",
    "    city_data[city] = df[df['City'] == city]['Inflation'].values"
   ]
  },
  {
   "cell_type": "code",
   "execution_count": null,
   "id": "fa26e3f7",
   "metadata": {
    "lines_to_next_cell": 1
   },
   "outputs": [],
   "source": [
    "# Fungsi untuk membuat sekuens waktu\n",
    "def create_time_series(data, time_steps=1):\n",
    "    X, y = [], []\n",
    "    for i in range(len(data) - time_steps):\n",
    "        a = data[i:(i + time_steps)]\n",
    "        X.append(a)\n",
    "        y.append(data[i + time_steps])\n",
    "    return np.array(X), np.array(y)"
   ]
  },
  {
   "cell_type": "code",
   "execution_count": null,
   "id": "5d0efb54",
   "metadata": {},
   "outputs": [],
   "source": [
    "# Hyperparameter\n",
    "time_steps = 12  # Sesuaikan dengan panjang sekuens waktu yang ingin Anda gunakan\n",
    "n_features = 1  # Jumlah fitur (hanya inflasi)"
   ]
  },
  {
   "cell_type": "code",
   "execution_count": null,
   "id": "2aa16c1c",
   "metadata": {},
   "outputs": [],
   "source": [
    "# Membuat dan melatih model LSTM untuk setiap kota\n",
    "models = {}\n",
    "for city, data in city_data.items():\n",
    "    X, y = create_time_series(data, time_steps)\n",
    "    X = X.reshape((X.shape[0], X.shape[1], n_features))\n",
    "    \n",
    "    model = Sequential()\n",
    "    model.add(Bidirectional(LSTM(50, activation='relu'), input_shape=(time_steps, n_features)))\n",
    "    model.add(Dense(1))\n",
    "    model.compile(optimizer='adam', loss='mse')\n",
    "    model.fit(X, y, epochs=50, verbose=0)\n",
    "    \n",
    "    models[city] = model"
   ]
  },
  {
   "cell_type": "code",
   "execution_count": null,
   "id": "ffd615c0",
   "metadata": {},
   "outputs": [],
   "source": [
    "# Contoh prediksi untuk suatu kota\n",
    "sample_city = 'KOTA YOGYAKARTA'\n",
    "input_data = scaler.transform(city_data[sample_city][-time_steps:].reshape(-1, 1))\n",
    "input_data = input_data.reshape((1, time_steps, n_features))\n",
    "predicted_inflation = models[sample_city].predict(input_data)"
   ]
  },
  {
   "cell_type": "code",
   "execution_count": null,
   "id": "b72b49aa",
   "metadata": {},
   "outputs": [],
   "source": [
    "# Inverse transform hasil prediksi untuk mendapatkan nilai sebenarnya\n",
    "predicted_inflation_actual = scaler.inverse_transform(predicted_inflation.reshape(-1, 1))"
   ]
  },
  {
   "cell_type": "code",
   "execution_count": null,
   "id": "5ed00b22",
   "metadata": {},
   "outputs": [],
   "source": [
    "print(f'Predicted Inflation for {sample_city}: {predicted_inflation_actual[0][0]}')"
   ]
  }
 ],
 "metadata": {
  "jupytext": {
   "cell_metadata_filter": "-all",
   "main_language": "python",
   "notebook_metadata_filter": "-all"
  }
 },
 "nbformat": 4,
 "nbformat_minor": 5
}
